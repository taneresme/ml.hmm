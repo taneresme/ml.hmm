{
 "cells": [
  {
   "cell_type": "markdown",
   "metadata": {},
   "source": [
    "# Hidden Markov Models (HMM)\n",
    "HMM is a probabilistic sequence model. A sequence model or sequence classifier is a model whose job is to assign a label or class to each unit in a sequence, thus mapping a sequence of observations to a sequence of labels. HMM computes a probability distribution over possible sequences of labels and choose the best label sequence. HMM is a key model for language processing."
   ]
  },
  {
   "cell_type": "markdown",
   "metadata": {},
   "source": [
    "## Markov Models\n",
    "A probabilistic time-series model requires a specification of the joint distribution $p(v_1, \\dots ,v_T)$. We cannot expect to independently specify all the exponentially many entries and are focused to make the simplified models.\n",
    "\n",
    "> Note : Time series notation $x_{a:b} \\equiv x_a, x_{a+1}, \\dots ,x_{b}$ with $ x_{a:b} = x_a$ for $b \\leq a$\n",
    "\n",
    "For time-series data $v_1, \\dots ,v_T$ we need a model $p(v_{1:T})$.\n",
    "\n",
    "$$\n",
    "p(v_{1:T}) = \\prod_{t=1}^T p(v_t \\mid v_{1:t - 1})\n",
    "$$\n",
    "\n",
    "$p(v_t \\mid v_{1:t - 1}) = p(v_1)$ for $t = 1$. In markov models, assuming that the influence of immediate past is more relevant than the remote past so limited previous observations are required (named first-order markov chain)."
   ]
  },
  {
   "cell_type": "markdown",
   "metadata": {},
   "source": [
    "## Hidden Markov Models\n",
    "First order hidden markov model with hidden variables $dom(h_t) = \\{1, \\dots ,H\\}, t = 1:T$. The visible variables  are denoted $v_t$\n",
    "<img src=\"hmm.png\"  style=\"height:20%;width:30%\" />\n",
    "HMM defines a Markov chain on hidden variables $h_{1:T}$. The observed (or ‘visible’) variables are dependent on the hidden variables through an emission $p(v_t \\mid h_t)$. This defines a joint distribution:\n",
    "\n",
    "$$\n",
    "p(h_{1:T}, v_{1:T}) = p(v_1 \\mid h_1) \\cdot p(h_1) \\prod_{t=2}^T p(v_t \\mid h_t) \\cdot p(h_t \\mid h_{t-1})\n",
    "$$\n",
    "\n",
    "Transition distribution: $A_{i^* i} = p(h_{t+1} = i^* \\mid h_t = i)$ and the initial distribution $a_i = p(h_1 = i)$. Transition distribution defines a H X H matrix.\n",
    "\n",
    "Emission distribution: $B_{ij} = p(v_t = i \\mid h_t = j)$. With discrete values $v_t \\in \\{1, \\dots ,V\\}$, emission distribution defines a V X H matrix."
   ]
  },
  {
   "cell_type": "code",
   "execution_count": 10,
   "metadata": {},
   "outputs": [
    {
     "name": "stdout",
     "output_type": "stream",
     "text": [
      "p_y_x:\n",
      "[[ 0.1  0.1  0.9]\n",
      " [ 0.9  0.9  0.1]]\n",
      "p_y_x[y_1,:] : [ 0.1  0.1  0.9]\n",
      "p_x1_y1: [ 0.05  0.05  0.  ]\n",
      "p_x1_y1: [ 0.5  0.5  0. ]\n",
      "p_x2_y1: [ 0.05  0.5   0.45]\n",
      "p_x2_y12: [ 0.01086957  0.10869565  0.88043478]\n",
      "p_y2_y1: [ 0.46  0.54]\n"
     ]
    }
   ],
   "source": [
    "import numpy as np\n",
    "\n",
    "p_x1 = np.array([0.5, 0.5, 0])\n",
    "\n",
    "p_xtp1_x1 = np.array([[0.1, 0, 0.9], [0.9, 0.1, 0], [0, 0.9, 0.1]])\n",
    "\n",
    "p_y_x = np.array([[0.1, 0.1, 0.9], [0.9, 0.9, 0.1]])\n",
    "print(\"p_y_x:\")\n",
    "print(p_y_x)\n",
    "\n",
    "print(\"p_y_x[y_1,:] :\", p_y_x[y_1,:] )\n",
    "\n",
    "y_1 = 0\n",
    "\n",
    "p_x1_y1 = p_y_x[y_1,:] * p_x1\n",
    "print(\"p_x1_y1:\", p_x1_y1)\n",
    "p_x1_y1 = p_x1_y1 / np.sum(p_x1_y1)\n",
    "print(\"p_x1_y1:\", p_x1_y1)\n",
    "\n",
    "p_x2_y1 = p_xtp1_x1.dot(p_x1_y1)\n",
    "print(\"p_x2_y1:\", p_x2_y1)\n",
    "\n",
    "y_2 = 0\n",
    "\n",
    "p_x2_y12 = p_y_x[y_2, :] * p_x2_y1\n",
    "p_x2_y12 = p_x2_y12 / np.sum(p_x2_y12)\n",
    "print(\"p_x2_y12:\", p_x2_y12)\n",
    "\n",
    "p_y2_y1 = p_y_x.dot(p_x2_y1)\n",
    "print(\"p_y2_y1:\", p_y2_y1)"
   ]
  },
  {
   "cell_type": "markdown",
   "metadata": {},
   "source": [
    "## References\n",
    "* [stanford](https://web.stanford.edu/~jurafsky/slp3/9.pdf), Speech and Language Processing\n",
    "* Bayesian reasoning and machine learning, David Barber"
   ]
  }
 ],
 "metadata": {
  "kernelspec": {
   "display_name": "Python 3",
   "language": "python",
   "name": "python3"
  },
  "language_info": {
   "codemirror_mode": {
    "name": "ipython",
    "version": 3
   },
   "file_extension": ".py",
   "mimetype": "text/x-python",
   "name": "python",
   "nbconvert_exporter": "python",
   "pygments_lexer": "ipython3",
   "version": "3.6.2"
  }
 },
 "nbformat": 4,
 "nbformat_minor": 2
}
